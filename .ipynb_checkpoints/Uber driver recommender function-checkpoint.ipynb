{
 "cells": [
  {
   "cell_type": "markdown",
   "metadata": {},
   "source": [
    "## Helping new Uber drivers make more money  <br>\n",
    "<br>\n",
    "![title](uber_driver.jpg)\n",
    "<br>\n",
    "New drivers might have trouble earning money when they join because they don’t know when and where to drive\n",
    "to maximize their earnings. If drivers drove in better locations and times, Uber and driver partners would earn more money, and riders would get shorter ETA’s and lower prices. \n",
    "<br>\n",
    "<br>\n",
    "Lets build a model to predict the benefit of driving at different times and locations in the coming week, and create a tool to  give a recommendation about\n",
    "when and where to drive."
   ]
  },
  {
   "cell_type": "code",
   "execution_count": null,
   "metadata": {},
   "outputs": [],
   "source": []
  },
  {
   "cell_type": "code",
   "execution_count": 108,
   "metadata": {},
   "outputs": [],
   "source": [
    "import pandas as pd\n",
    "import numpy as np\n",
    "import seaborn as sns\n",
    "import matplotlib\n",
    "import matplotlib.pyplot as plt\n",
    "import warnings\n",
    "warnings.filterwarnings('ignore')\n",
    "%matplotlib inline"
   ]
  },
  {
   "cell_type": "code",
   "execution_count": 109,
   "metadata": {},
   "outputs": [
    {
     "name": "stdout",
     "output_type": "stream",
     "text": [
      "(59854, 9)\n"
     ]
    }
   ],
   "source": [
    "df = pd.read_csv('/Users/aaronmichaelbroderick/Desktop/Data_Science/Data/Uber_driver_trips.csv')\n",
    "print(df.shape)"
   ]
  },
  {
   "cell_type": "code",
   "execution_count": 110,
   "metadata": {},
   "outputs": [
    {
     "data": {
      "text/html": [
       "<div>\n",
       "<style scoped>\n",
       "    .dataframe tbody tr th:only-of-type {\n",
       "        vertical-align: middle;\n",
       "    }\n",
       "\n",
       "    .dataframe tbody tr th {\n",
       "        vertical-align: top;\n",
       "    }\n",
       "\n",
       "    .dataframe thead th {\n",
       "        text-align: right;\n",
       "    }\n",
       "</style>\n",
       "<table border=\"1\" class=\"dataframe\">\n",
       "  <thead>\n",
       "    <tr style=\"text-align: right;\">\n",
       "      <th></th>\n",
       "      <th>trip_id</th>\n",
       "      <th>driver_id</th>\n",
       "      <th>trip_status</th>\n",
       "      <th>actual_time_to_arrival</th>\n",
       "      <th>request_time</th>\n",
       "      <th>surge_multiplier</th>\n",
       "      <th>driver payout</th>\n",
       "      <th>start_geo</th>\n",
       "      <th>end_geo</th>\n",
       "    </tr>\n",
       "  </thead>\n",
       "  <tbody>\n",
       "    <tr>\n",
       "      <th>0</th>\n",
       "      <td>b3cb-b9bf</td>\n",
       "      <td>4649-2f0a</td>\n",
       "      <td>completed</td>\n",
       "      <td>3.52</td>\n",
       "      <td>4/9/12 6:12</td>\n",
       "      <td>1.0</td>\n",
       "      <td>4.24</td>\n",
       "      <td>Allen Abby</td>\n",
       "      <td>Chelsea Court</td>\n",
       "    </tr>\n",
       "  </tbody>\n",
       "</table>\n",
       "</div>"
      ],
      "text/plain": [
       "     trip_id  driver_id trip_status  actual_time_to_arrival request_time  \\\n",
       "0  b3cb-b9bf  4649-2f0a   completed                    3.52  4/9/12 6:12   \n",
       "\n",
       "   surge_multiplier  driver payout   start_geo        end_geo  \n",
       "0               1.0           4.24  Allen Abby  Chelsea Court  "
      ]
     },
     "execution_count": 110,
     "metadata": {},
     "output_type": "execute_result"
    }
   ],
   "source": [
    "df.head(1)"
   ]
  },
  {
   "cell_type": "code",
   "execution_count": 111,
   "metadata": {},
   "outputs": [
    {
     "data": {
      "text/plain": [
       "Chelsea Court    40288\n",
       "Allen Abby       10459\n",
       "Daisy Drive       4751\n",
       "Blair Bend        4356\n",
       "Name: start_geo, dtype: int64"
      ]
     },
     "execution_count": 111,
     "metadata": {},
     "output_type": "execute_result"
    }
   ],
   "source": [
    "df.start_geo.value_counts()"
   ]
  },
  {
   "cell_type": "markdown",
   "metadata": {},
   "source": [
    "## Generate some time features"
   ]
  },
  {
   "cell_type": "code",
   "execution_count": 112,
   "metadata": {},
   "outputs": [],
   "source": [
    "import datetime\n",
    "df.request_time = df.request_time.apply(pd.to_datetime)"
   ]
  },
  {
   "cell_type": "code",
   "execution_count": 113,
   "metadata": {},
   "outputs": [
    {
     "data": {
      "text/html": [
       "<div>\n",
       "<style scoped>\n",
       "    .dataframe tbody tr th:only-of-type {\n",
       "        vertical-align: middle;\n",
       "    }\n",
       "\n",
       "    .dataframe tbody tr th {\n",
       "        vertical-align: top;\n",
       "    }\n",
       "\n",
       "    .dataframe thead th {\n",
       "        text-align: right;\n",
       "    }\n",
       "</style>\n",
       "<table border=\"1\" class=\"dataframe\">\n",
       "  <thead>\n",
       "    <tr style=\"text-align: right;\">\n",
       "      <th></th>\n",
       "      <th>trip_id</th>\n",
       "      <th>driver_id</th>\n",
       "      <th>trip_status</th>\n",
       "      <th>actual_time_to_arrival</th>\n",
       "      <th>request_time</th>\n",
       "      <th>surge_multiplier</th>\n",
       "      <th>driver payout</th>\n",
       "      <th>start_geo</th>\n",
       "      <th>end_geo</th>\n",
       "    </tr>\n",
       "  </thead>\n",
       "  <tbody>\n",
       "    <tr>\n",
       "      <th>0</th>\n",
       "      <td>b3cb-b9bf</td>\n",
       "      <td>4649-2f0a</td>\n",
       "      <td>completed</td>\n",
       "      <td>3.52</td>\n",
       "      <td>2012-04-09 06:12:00</td>\n",
       "      <td>1.0</td>\n",
       "      <td>4.24</td>\n",
       "      <td>Allen Abby</td>\n",
       "      <td>Chelsea Court</td>\n",
       "    </tr>\n",
       "  </tbody>\n",
       "</table>\n",
       "</div>"
      ],
      "text/plain": [
       "     trip_id  driver_id trip_status  actual_time_to_arrival  \\\n",
       "0  b3cb-b9bf  4649-2f0a   completed                    3.52   \n",
       "\n",
       "         request_time  surge_multiplier  driver payout   start_geo  \\\n",
       "0 2012-04-09 06:12:00               1.0           4.24  Allen Abby   \n",
       "\n",
       "         end_geo  \n",
       "0  Chelsea Court  "
      ]
     },
     "execution_count": 113,
     "metadata": {},
     "output_type": "execute_result"
    }
   ],
   "source": [
    "df.head(1)"
   ]
  },
  {
   "cell_type": "code",
   "execution_count": 114,
   "metadata": {},
   "outputs": [],
   "source": [
    "days = []\n",
    "for i in range(len(df)):\n",
    "    days.append(df.request_time[i].weekday())\n",
    "    \n",
    "# 0 = Monday, 6 = Sunday\n",
    "\n",
    "df['days'] = days"
   ]
  },
  {
   "cell_type": "code",
   "execution_count": 115,
   "metadata": {},
   "outputs": [],
   "source": [
    "hours = []\n",
    "for i in range(len(df)):\n",
    "    hours.append(df.request_time[i].hour)\n",
    "\n",
    "# Military Time\n",
    "\n",
    "df['hours'] = hours"
   ]
  },
  {
   "cell_type": "code",
   "execution_count": 116,
   "metadata": {},
   "outputs": [],
   "source": [
    "# Days since first date in dataset\n",
    "\n",
    "lag = []\n",
    "\n",
    "for i in range(len(df)):\n",
    "    lag_days = (df.request_time[i] - df.request_time.min()).days\n",
    "    lag.append(lag_days)\n",
    "\n",
    "df['lag'] = lag"
   ]
  },
  {
   "cell_type": "code",
   "execution_count": 117,
   "metadata": {},
   "outputs": [
    {
     "name": "stdout",
     "output_type": "stream",
     "text": [
      "0\n",
      "5000\n",
      "10000\n",
      "15000\n",
      "20000\n",
      "25000\n",
      "30000\n",
      "35000\n",
      "40000\n",
      "45000\n",
      "50000\n",
      "55000\n"
     ]
    }
   ],
   "source": [
    "## Make new variables.  The average surge multiplier for 1,2,7,14 days ago for that \n",
    "## hour, day and starting location\n",
    "\n",
    "lag_minus_7 = []\n",
    "lag_minus_14 = []\n",
    "lag_minus_1 = []\n",
    "lag_minus_2 = []\n",
    "\n",
    "for i in range(len(df)):\n",
    "    local_lag = df.lag[i]\n",
    "    day = df.days[i]\n",
    "    hour = df.hours[i]\n",
    "    start_loc = df.start_geo[i]\n",
    "\n",
    "    if local_lag - 7 >= 0:\n",
    "        local_lag_minus_7 = df.lag[i] - 7\n",
    "        lag_minus_7.append(df[(df['hours'] == df.hours[i]) & (df['lag'] == local_lag_minus_7) & (df['start_geo'] == df.start_geo[i])].surge_multiplier.mean())\n",
    "    else:\n",
    "        lag_minus_7.append(99)\n",
    "        \n",
    "    if local_lag - 14 >= 0:\n",
    "        local_lag_minus_14 = df.lag[i] - 14\n",
    "        lag_minus_14.append(df[(df['hours'] == df.hours[i]) & (df['lag'] == local_lag_minus_14) & (df['start_geo'] == df.start_geo[i])].surge_multiplier.mean())\n",
    "    else:\n",
    "        lag_minus_14.append(99)\n",
    "        \n",
    "    if local_lag - 1 >= 0:\n",
    "        local_lag_minus_1 = df.lag[i] - 1\n",
    "        lag_minus_1.append(df[(df['hours'] == df.hours[i]) & (df['lag'] == local_lag_minus_1) & (df['start_geo'] == df.start_geo[i])].surge_multiplier.mean())\n",
    "    else:\n",
    "        lag_minus_1.append(99)\n",
    "\n",
    "    if local_lag - 2 >= 0:\n",
    "        local_lag_minus_2 = df.lag[i] - 2\n",
    "        lag_minus_2.append(df[(df['hours'] == df.hours[i]) & (df['lag'] == local_lag_minus_2) & (df['start_geo'] == df.start_geo[i])].surge_multiplier.mean())\n",
    "    else:\n",
    "        lag_minus_2.append(99)\n",
    "    \n",
    "    if i % 5000 == 0:\n",
    "        print (i)"
   ]
  },
  {
   "cell_type": "code",
   "execution_count": 118,
   "metadata": {},
   "outputs": [],
   "source": [
    "df['surge_ave_minus_7'] = lag_minus_7\n",
    "df['surge_ave_minus_14'] = lag_minus_14\n",
    "df['surge_ave_minus_1'] = lag_minus_1\n",
    "df['surge_ave_minus_2'] = lag_minus_2"
   ]
  },
  {
   "cell_type": "code",
   "execution_count": 119,
   "metadata": {},
   "outputs": [],
   "source": [
    "df = df[(df['surge_ave_minus_7'] != 99) & (df['surge_ave_minus_14'] != 99) & (df['surge_ave_minus_1'] != 99) & (df['surge_ave_minus_2'])]\n",
    "df = df.reset_index(drop = True)\n",
    "df = df.fillna(1)"
   ]
  },
  {
   "cell_type": "code",
   "execution_count": 120,
   "metadata": {},
   "outputs": [
    {
     "data": {
      "text/html": [
       "<div>\n",
       "<style scoped>\n",
       "    .dataframe tbody tr th:only-of-type {\n",
       "        vertical-align: middle;\n",
       "    }\n",
       "\n",
       "    .dataframe tbody tr th {\n",
       "        vertical-align: top;\n",
       "    }\n",
       "\n",
       "    .dataframe thead th {\n",
       "        text-align: right;\n",
       "    }\n",
       "</style>\n",
       "<table border=\"1\" class=\"dataframe\">\n",
       "  <thead>\n",
       "    <tr style=\"text-align: right;\">\n",
       "      <th></th>\n",
       "      <th>trip_id</th>\n",
       "      <th>driver_id</th>\n",
       "      <th>trip_status</th>\n",
       "      <th>actual_time_to_arrival</th>\n",
       "      <th>request_time</th>\n",
       "      <th>surge_multiplier</th>\n",
       "      <th>driver payout</th>\n",
       "      <th>start_geo</th>\n",
       "      <th>end_geo</th>\n",
       "      <th>days</th>\n",
       "      <th>hours</th>\n",
       "      <th>lag</th>\n",
       "      <th>surge_ave_minus_7</th>\n",
       "      <th>surge_ave_minus_14</th>\n",
       "      <th>surge_ave_minus_1</th>\n",
       "      <th>surge_ave_minus_2</th>\n",
       "    </tr>\n",
       "  </thead>\n",
       "  <tbody>\n",
       "    <tr>\n",
       "      <th>0</th>\n",
       "      <td>8569-0fbf</td>\n",
       "      <td>4003-e2e7</td>\n",
       "      <td>completed</td>\n",
       "      <td>2.63</td>\n",
       "      <td>2012-05-06 05:44:00</td>\n",
       "      <td>2.0</td>\n",
       "      <td>8.24</td>\n",
       "      <td>Blair Bend</td>\n",
       "      <td>Chelsea Court</td>\n",
       "      <td>6</td>\n",
       "      <td>5</td>\n",
       "      <td>27</td>\n",
       "      <td>1.125</td>\n",
       "      <td>1.633333</td>\n",
       "      <td>1.3</td>\n",
       "      <td>1.15</td>\n",
       "    </tr>\n",
       "  </tbody>\n",
       "</table>\n",
       "</div>"
      ],
      "text/plain": [
       "     trip_id  driver_id trip_status  actual_time_to_arrival  \\\n",
       "0  8569-0fbf  4003-e2e7   completed                    2.63   \n",
       "\n",
       "         request_time  surge_multiplier  driver payout   start_geo  \\\n",
       "0 2012-05-06 05:44:00               2.0           8.24  Blair Bend   \n",
       "\n",
       "         end_geo  days  hours  lag  surge_ave_minus_7  surge_ave_minus_14  \\\n",
       "0  Chelsea Court     6      5   27              1.125            1.633333   \n",
       "\n",
       "   surge_ave_minus_1  surge_ave_minus_2  \n",
       "0                1.3               1.15  "
      ]
     },
     "execution_count": 120,
     "metadata": {},
     "output_type": "execute_result"
    }
   ],
   "source": [
    "df.head(1)"
   ]
  },
  {
   "cell_type": "code",
   "execution_count": 121,
   "metadata": {},
   "outputs": [
    {
     "data": {
      "text/plain": [
       "(30438, 16)"
      ]
     },
     "execution_count": 121,
     "metadata": {},
     "output_type": "execute_result"
    }
   ],
   "source": [
    "df.shape"
   ]
  },
  {
   "cell_type": "markdown",
   "metadata": {},
   "source": [
    "## What is the benefit of driving during high surge times?\n",
    "<br>\n",
    "\n",
    "<font size = 4> The surge_multiplier shows how much the price of the fare increases during times where demand is greater than supply.  Is there a financial benefit to the driver for taking these fares? </font>"
   ]
  },
  {
   "cell_type": "code",
   "execution_count": 122,
   "metadata": {},
   "outputs": [],
   "source": [
    "surge_amounts = list(df.surge_multiplier.value_counts().index)\n",
    "surge_amounts = surge_amounts[:15]"
   ]
  },
  {
   "cell_type": "code",
   "execution_count": 123,
   "metadata": {},
   "outputs": [],
   "source": [
    "average_payout = []\n",
    "surge_amount = []\n",
    "\n",
    "for i in range(len(surge_amounts)):\n",
    "    data = df[df['surge_multiplier'] == surge_amounts[i]]\n",
    "    surge_amount.append(surge_amounts[i])\n",
    "    average_payout.append(data['driver payout'].mean())"
   ]
  },
  {
   "cell_type": "code",
   "execution_count": 124,
   "metadata": {},
   "outputs": [
    {
     "data": {
      "text/plain": [
       "[Text(0,0.5,'Average Fare $'), Text(0.5,0,'Surge Multiplier')]"
      ]
     },
     "execution_count": 124,
     "metadata": {},
     "output_type": "execute_result"
    },
    {
     "data": {
      "image/png": "[encoded data removed]",
      "text/plain": [
       "<Figure size 1008x504 with 1 Axes>"
      ]
     },
     "metadata": {},
     "output_type": "display_data"
    }
   ],
   "source": [
    "plt.figure(figsize=(14,7))\n",
    "ax = sns.pointplot(surge_amount, average_payout)\n",
    "ax.set_title('You Make More Per Fare During High Surge Multipliers')\n",
    "ax.set(xlabel='Surge Multiplier', ylabel='Average Fare $')"
   ]
  },
  {
   "cell_type": "code",
   "execution_count": 125,
   "metadata": {},
   "outputs": [
    {
     "name": "stdout",
     "output_type": "stream",
     "text": [
      "\n",
      "For every 0.1 increase in surge multiplier, you make about 0.45 cents more per fare.\n"
     ]
    }
   ],
   "source": [
    "## From the chart above, there is a clear linear relationship from SM 1.3 to 2.3.\n",
    "\n",
    "money = pd.DataFrame()\n",
    "\n",
    "money['surge_multiplier'] = surge_amount\n",
    "money['average_payout'] = average_payout\n",
    "money = money[(money['surge_multiplier'] >= 1.3) & (money['surge_multiplier'] <= 2.3)]\n",
    "\n",
    "# Find the change between surge multipliers\n",
    "\n",
    "change = [0]\n",
    "for i in range(3,13):\n",
    "    x = money.average_payout[i] - money.average_payout[i-1]\n",
    "    change.append(x)\n",
    "    \n",
    "money['change'] = change\n",
    "money = money[money['surge_multiplier'] > 1.3]\n",
    "\n",
    "surge_increase_value = str(money.change.mean())[:4]\n",
    "print()\n",
    "print( 'For every 0.1 increase in surge multiplier, you make about ' + str(surge_increase_value)[:4] + ' cents more per fare.')"
   ]
  },
  {
   "cell_type": "markdown",
   "metadata": {},
   "source": [
    "## Lets make a model to predict surge values in the coming week.  \n",
    "<br>\n",
    "<font size = 4>If we can accurately predict the surge value for the upcoming week, we can build a recommender function for new drivers to tell them when and where they can make the most money. </font>"
   ]
  },
  {
   "cell_type": "code",
   "execution_count": 126,
   "metadata": {},
   "outputs": [
    {
     "data": {
      "text/html": [
       "<div>\n",
       "<style scoped>\n",
       "    .dataframe tbody tr th:only-of-type {\n",
       "        vertical-align: middle;\n",
       "    }\n",
       "\n",
       "    .dataframe tbody tr th {\n",
       "        vertical-align: top;\n",
       "    }\n",
       "\n",
       "    .dataframe thead th {\n",
       "        text-align: right;\n",
       "    }\n",
       "</style>\n",
       "<table border=\"1\" class=\"dataframe\">\n",
       "  <thead>\n",
       "    <tr style=\"text-align: right;\">\n",
       "      <th></th>\n",
       "      <th>trip_id</th>\n",
       "      <th>driver_id</th>\n",
       "      <th>trip_status</th>\n",
       "      <th>actual_time_to_arrival</th>\n",
       "      <th>request_time</th>\n",
       "      <th>surge_multiplier</th>\n",
       "      <th>driver payout</th>\n",
       "      <th>start_geo</th>\n",
       "      <th>end_geo</th>\n",
       "      <th>days</th>\n",
       "      <th>hours</th>\n",
       "      <th>lag</th>\n",
       "      <th>surge_ave_minus_7</th>\n",
       "      <th>surge_ave_minus_14</th>\n",
       "      <th>surge_ave_minus_1</th>\n",
       "      <th>surge_ave_minus_2</th>\n",
       "    </tr>\n",
       "  </thead>\n",
       "  <tbody>\n",
       "    <tr>\n",
       "      <th>0</th>\n",
       "      <td>8569-0fbf</td>\n",
       "      <td>4003-e2e7</td>\n",
       "      <td>completed</td>\n",
       "      <td>2.63</td>\n",
       "      <td>2012-05-06 05:44:00</td>\n",
       "      <td>2.0</td>\n",
       "      <td>8.24</td>\n",
       "      <td>Blair Bend</td>\n",
       "      <td>Chelsea Court</td>\n",
       "      <td>6</td>\n",
       "      <td>5</td>\n",
       "      <td>27</td>\n",
       "      <td>1.125</td>\n",
       "      <td>1.633333</td>\n",
       "      <td>1.3</td>\n",
       "      <td>1.15</td>\n",
       "    </tr>\n",
       "  </tbody>\n",
       "</table>\n",
       "</div>"
      ],
      "text/plain": [
       "     trip_id  driver_id trip_status  actual_time_to_arrival  \\\n",
       "0  8569-0fbf  4003-e2e7   completed                    2.63   \n",
       "\n",
       "         request_time  surge_multiplier  driver payout   start_geo  \\\n",
       "0 2012-05-06 05:44:00               2.0           8.24  Blair Bend   \n",
       "\n",
       "         end_geo  days  hours  lag  surge_ave_minus_7  surge_ave_minus_14  \\\n",
       "0  Chelsea Court     6      5   27              1.125            1.633333   \n",
       "\n",
       "   surge_ave_minus_1  surge_ave_minus_2  \n",
       "0                1.3               1.15  "
      ]
     },
     "execution_count": 126,
     "metadata": {},
     "output_type": "execute_result"
    }
   ],
   "source": [
    "df.head(1)"
   ]
  },
  {
   "cell_type": "code",
   "execution_count": 127,
   "metadata": {},
   "outputs": [
    {
     "data": {
      "text/html": [
       "<div>\n",
       "<style scoped>\n",
       "    .dataframe tbody tr th:only-of-type {\n",
       "        vertical-align: middle;\n",
       "    }\n",
       "\n",
       "    .dataframe tbody tr th {\n",
       "        vertical-align: top;\n",
       "    }\n",
       "\n",
       "    .dataframe thead th {\n",
       "        text-align: right;\n",
       "    }\n",
       "</style>\n",
       "<table border=\"1\" class=\"dataframe\">\n",
       "  <thead>\n",
       "    <tr style=\"text-align: right;\">\n",
       "      <th></th>\n",
       "      <th>surge_multiplier</th>\n",
       "      <th>days</th>\n",
       "      <th>hours</th>\n",
       "      <th>surge_ave_minus_7</th>\n",
       "      <th>surge_ave_minus_14</th>\n",
       "      <th>surge_ave_minus_1</th>\n",
       "      <th>surge_ave_minus_2</th>\n",
       "      <th>driver payout</th>\n",
       "      <th>start_geo_Allen Abby</th>\n",
       "      <th>start_geo_Blair Bend</th>\n",
       "      <th>start_geo_Chelsea Court</th>\n",
       "      <th>start_geo_Daisy Drive</th>\n",
       "      <th>end_geo_Allen Abby</th>\n",
       "      <th>end_geo_Blair Bend</th>\n",
       "      <th>end_geo_Chelsea Court</th>\n",
       "      <th>end_geo_Daisy Drive</th>\n",
       "      <th>trip_status_completed</th>\n",
       "      <th>trip_status_failed</th>\n",
       "      <th>trip_status_rider_canceled</th>\n",
       "      <th>trip_status_unfulfilled</th>\n",
       "    </tr>\n",
       "  </thead>\n",
       "  <tbody>\n",
       "    <tr>\n",
       "      <th>0</th>\n",
       "      <td>2.0</td>\n",
       "      <td>6</td>\n",
       "      <td>5</td>\n",
       "      <td>1.125</td>\n",
       "      <td>1.633333</td>\n",
       "      <td>1.3</td>\n",
       "      <td>1.15</td>\n",
       "      <td>8.24</td>\n",
       "      <td>0</td>\n",
       "      <td>1</td>\n",
       "      <td>0</td>\n",
       "      <td>0</td>\n",
       "      <td>0</td>\n",
       "      <td>0</td>\n",
       "      <td>1</td>\n",
       "      <td>0</td>\n",
       "      <td>1</td>\n",
       "      <td>0</td>\n",
       "      <td>0</td>\n",
       "      <td>0</td>\n",
       "    </tr>\n",
       "  </tbody>\n",
       "</table>\n",
       "</div>"
      ],
      "text/plain": [
       "   surge_multiplier  days  hours  surge_ave_minus_7  surge_ave_minus_14  \\\n",
       "0               2.0     6      5              1.125            1.633333   \n",
       "\n",
       "   surge_ave_minus_1  surge_ave_minus_2  driver payout  start_geo_Allen Abby  \\\n",
       "0                1.3               1.15           8.24                     0   \n",
       "\n",
       "   start_geo_Blair Bend  start_geo_Chelsea Court  start_geo_Daisy Drive  \\\n",
       "0                     1                        0                      0   \n",
       "\n",
       "   end_geo_Allen Abby  end_geo_Blair Bend  end_geo_Chelsea Court  \\\n",
       "0                   0                   0                      1   \n",
       "\n",
       "   end_geo_Daisy Drive  trip_status_completed  trip_status_failed  \\\n",
       "0                    0                      1                   0   \n",
       "\n",
       "   trip_status_rider_canceled  trip_status_unfulfilled  \n",
       "0                           0                        0  "
      ]
     },
     "execution_count": 127,
     "metadata": {},
     "output_type": "execute_result"
    }
   ],
   "source": [
    "reg_df = df\n",
    "reg_df = reg_df[['surge_multiplier','start_geo','end_geo','days','hours','surge_ave_minus_7','surge_ave_minus_14','surge_ave_minus_1','surge_ave_minus_2','trip_status','driver payout']]\n",
    "reg_df = pd.get_dummies(reg_df)\n",
    "reg_df.head(1)"
   ]
  },
  {
   "cell_type": "markdown",
   "metadata": {},
   "source": [
    "## Model comparison"
   ]
  },
  {
   "cell_type": "code",
   "execution_count": 128,
   "metadata": {},
   "outputs": [],
   "source": [
    "names = list(reg_df)\n",
    "names.remove('surge_multiplier')\n",
    "\n",
    "x = reg_df[names]\n",
    "y = reg_df['surge_multiplier']"
   ]
  },
  {
   "cell_type": "code",
   "execution_count": 129,
   "metadata": {},
   "outputs": [
    {
     "data": {
      "text/plain": [
       "0.1323388393925704"
      ]
     },
     "execution_count": 129,
     "metadata": {},
     "output_type": "execute_result"
    }
   ],
   "source": [
    "from sklearn.linear_model import LinearRegression\n",
    "\n",
    "\n",
    "lr = LinearRegression()\n",
    "lr.fit(x,y)\n",
    "lr.score(x,y)"
   ]
  },
  {
   "cell_type": "code",
   "execution_count": 130,
   "metadata": {},
   "outputs": [
    {
     "data": {
      "text/plain": [
       "0.7096271675666455"
      ]
     },
     "execution_count": 130,
     "metadata": {},
     "output_type": "execute_result"
    }
   ],
   "source": [
    "from sklearn import ensemble\n",
    "\n",
    "gbr = ensemble.GradientBoostingRegressor(n_estimators = 400, max_depth=5,\n",
    "min_samples_split = 2, learning_rate = 0.1, loss = 'ls')\n",
    "\n",
    "gbr.fit(x,y)\n",
    "gbr.score(x,y)"
   ]
  },
  {
   "cell_type": "code",
   "execution_count": 131,
   "metadata": {},
   "outputs": [
    {
     "data": {
      "text/plain": [
       "0.17427876701591616"
      ]
     },
     "execution_count": 131,
     "metadata": {},
     "output_type": "execute_result"
    }
   ],
   "source": [
    "from sklearn.ensemble import RandomForestRegressor\n",
    "\n",
    "rf = RandomForestRegressor(max_depth=2, random_state=0)\n",
    "\n",
    "rf.fit(x,y)\n",
    "rf.score(x,y)"
   ]
  },
  {
   "cell_type": "code",
   "execution_count": 132,
   "metadata": {},
   "outputs": [
    {
     "data": {
      "text/plain": [
       "0.5027995390874819"
      ]
     },
     "execution_count": 132,
     "metadata": {},
     "output_type": "execute_result"
    }
   ],
   "source": [
    "from sklearn import neighbors\n",
    "\n",
    "knn = neighbors.KNeighborsRegressor(n_neighbors=10)\n",
    "\n",
    "knn.fit(x,y)\n",
    "knn.score(x,y)"
   ]
  },
  {
   "cell_type": "code",
   "execution_count": 133,
   "metadata": {},
   "outputs": [
    {
     "data": {
      "text/plain": [
       "0.13233834266529199"
      ]
     },
     "execution_count": 133,
     "metadata": {},
     "output_type": "execute_result"
    }
   ],
   "source": [
    "from sklearn.linear_model import Ridge\n",
    "ridge = Ridge(alpha=1.0)\n",
    "\n",
    "ridge.fit(x,y)\n",
    "ridge.score(x,y)"
   ]
  },
  {
   "cell_type": "markdown",
   "metadata": {},
   "source": [
    "## Gradient Boost is the Winner"
   ]
  },
  {
   "cell_type": "code",
   "execution_count": 134,
   "metadata": {},
   "outputs": [],
   "source": [
    "df['pred_surge'] = gbr.predict(x)"
   ]
  },
  {
   "cell_type": "code",
   "execution_count": 135,
   "metadata": {},
   "outputs": [],
   "source": [
    "## Surge value is never lower than 1.\n",
    "\n",
    "def fix_1(floaty):\n",
    "    if floaty < 1:\n",
    "        return 1\n",
    "    else :\n",
    "        return floaty\n",
    "    \n",
    "df.pred_surge = df.pred_surge.apply(fix_1)"
   ]
  },
  {
   "cell_type": "code",
   "execution_count": 136,
   "metadata": {},
   "outputs": [
    {
     "data": {
      "image/png": "[encoded data removed]",
      "text/plain": [
       "<Figure size 1008x504 with 1 Axes>"
      ]
     },
     "metadata": {},
     "output_type": "display_data"
    },
    {
     "name": "stdout",
     "output_type": "stream",
     "text": [
      "Blue = Predicted\n",
      "Orange = Actual\n",
      "\n",
      "Average surge prediction error: 0.10\n"
     ]
    }
   ],
   "source": [
    "plt.figure(figsize=(14,7))\n",
    "\n",
    "ax = sns.distplot(df.pred_surge, kde = False)\n",
    "sns.distplot(df.surge_multiplier, kde = False)\n",
    "\n",
    "ax.set_xlim(0.9, 2)\n",
    "ax.set_ylim(0,25000)\n",
    "ax.set_title('Pred vs. Actual Surge')\n",
    "plt.show()\n",
    "\n",
    "print('Blue = Predicted')\n",
    "print('Orange = Actual')\n",
    "\n",
    "print()\n",
    "\n",
    "df['pred_surge - actual_surge'] = abs(df['pred_surge'] - df['surge_multiplier'])\n",
    "print('Average surge prediction error: ' + str(df['pred_surge - actual_surge'].mean())[:4])"
   ]
  },
  {
   "cell_type": "markdown",
   "metadata": {},
   "source": [
    "## Chelsea heatmap\n",
    "<br>\n",
    "<font size = 4>Now that we have a model let's predict where we should be driving in Chelsea </font>"
   ]
  },
  {
   "cell_type": "code",
   "execution_count": 137,
   "metadata": {},
   "outputs": [
    {
     "data": {
      "text/plain": [
       "['Chelsea Court', 'Allen Abby', 'Daisy Drive', 'Blair Bend']"
      ]
     },
     "execution_count": 137,
     "metadata": {},
     "output_type": "execute_result"
    }
   ],
   "source": [
    "places = list(df.start_geo.value_counts().index)\n",
    "places"
   ]
  },
  {
   "cell_type": "code",
   "execution_count": 138,
   "metadata": {},
   "outputs": [],
   "source": [
    "surge_tables = []\n",
    "for n in range(len(places)):\n",
    "    days = []\n",
    "    hours = []\n",
    "    surge_ave = []\n",
    "    place_df = df[df['start_geo'] == places[n]]\n",
    "    for i in range(0,7):\n",
    "        for j in range(0,24):\n",
    "            days.append(i)\n",
    "            hours.append(j)\n",
    "            data = place_df[(place_df['days'] == i) & (place_df['hours'] == j)]\n",
    "            surge_ave.append(data.pred_surge.mean())\n",
    "            \n",
    "    pivot1 = pd.DataFrame()\n",
    "    pivot1['days'] = days\n",
    "    pivot1['hour'] = hours\n",
    "    pivot1['surge_ave'] = surge_ave\n",
    "    \n",
    "    x_piv = pivot1.pivot(index='hour', columns='days', values='surge_ave')\n",
    "    surge_tables.append(x_piv)"
   ]
  },
  {
   "cell_type": "code",
   "execution_count": 139,
   "metadata": {},
   "outputs": [
    {
     "data": {
      "text/plain": [
       "Text(0.5,1,'Chelsea Court : Predicted Surge')"
      ]
     },
     "execution_count": 139,
     "metadata": {},
     "output_type": "execute_result"
    },
    {
     "data": {
      "image/png": "[encoded data removed]",
      "text/plain": [
       "<Figure size 1152x576 with 2 Axes>"
      ]
     },
     "metadata": {},
     "output_type": "display_data"
    }
   ],
   "source": [
    "plt.figure(figsize=(16,8))\n",
    "ax = sns.heatmap(surge_tables[0], vmin=1, annot = True, center = 1.5 )\n",
    "ax.set_title(places[0]+' : Predicted Surge')"
   ]
  },
  {
   "cell_type": "markdown",
   "metadata": {},
   "source": [
    "## Create a recommender function\n",
    "<br>\n",
    "\n",
    "<font size = 4>Use the pivot table for each area and compare to give the area with the highest predicted surge during a particular time. </font>"
   ]
  },
  {
   "cell_type": "markdown",
   "metadata": {},
   "source": [
    "## Function to determine best area for driving by surge metric."
   ]
  },
  {
   "cell_type": "code",
   "execution_count": 140,
   "metadata": {},
   "outputs": [
    {
     "data": {
      "text/plain": [
       "('Allen Abby', 2.2384595249802763)"
      ]
     },
     "execution_count": 140,
     "metadata": {},
     "output_type": "execute_result"
    }
   ],
   "source": [
    "def best_area(day, hour):\n",
    "    most = 0\n",
    "    area = 0\n",
    "    for i in range(0,4):\n",
    "        x = surge_tables[i][day].iloc[hour]\n",
    "        if x > most:\n",
    "            most = x\n",
    "            area = i\n",
    "    return places[area], most\n",
    "\n",
    "best_area(4,4)"
   ]
  },
  {
   "cell_type": "markdown",
   "metadata": {},
   "source": [
    "## Function to determine the best n hour work block"
   ]
  },
  {
   "cell_type": "code",
   "execution_count": 141,
   "metadata": {},
   "outputs": [],
   "source": [
    "def optimal_work_day(day, work_hours):\n",
    "    surge_value = 0\n",
    "    solution = []\n",
    "    for j in range(0, (24 - work_hours)):\n",
    "        list_of_times = []\n",
    "        local_surge_value = []\n",
    "        for i in range(1,(work_hours + 1)):\n",
    "            x, y = best_area(day, j + i)\n",
    "            local_surge_value.append(y)\n",
    "            z = [x, y, (j +i)]\n",
    "            list_of_times.append(z)\n",
    "        if sum(local_surge_value) > surge_value:\n",
    "            surge_value = sum(local_surge_value)\n",
    "            solution = list_of_times\n",
    "    return solution"
   ]
  },
  {
   "cell_type": "code",
   "execution_count": 142,
   "metadata": {},
   "outputs": [
    {
     "data": {
      "text/plain": [
       "[['Daisy Drive', 1.1869990369837269, 2],\n",
       " ['Chelsea Court', 1.3002636202388804, 3],\n",
       " ['Allen Abby', 2.1237219916796244, 4],\n",
       " ['Blair Bend', 2.026105797843308, 5],\n",
       " ['Allen Abby', 1.508144735234843, 6],\n",
       " ['Blair Bend', 1.408080534968123, 7],\n",
       " ['Allen Abby', 1.5990931116392904, 8],\n",
       " ['Allen Abby', 1.377607281146773, 9]]"
      ]
     },
     "execution_count": 142,
     "metadata": {},
     "output_type": "execute_result"
    }
   ],
   "source": [
    "optimal_work_day(0, 8)"
   ]
  }
 ],
 "metadata": {
  "kernelspec": {
   "display_name": "Python 3",
   "language": "python",
   "name": "python3"
  },
  "language_info": {
   "codemirror_mode": {
    "name": "ipython",
    "version": 3
   },
   "file_extension": ".py",
   "mimetype": "text/x-python",
   "name": "python",
   "nbconvert_exporter": "python",
   "pygments_lexer": "ipython3",
   "version": "3.6.4"
  }
 },
 "nbformat": 4,
 "nbformat_minor": 2
}
